{
 "cells": [
  {
   "cell_type": "code",
   "execution_count": null,
   "metadata": {},
   "outputs": [],
   "source": [
    "!pip install yfinance"
   ]
  },
  {
   "cell_type": "code",
   "execution_count": null,
   "metadata": {},
   "outputs": [],
   "source": [
    "# I have disabled write manually to avoid accidental writes. \n",
    "# Uncomment the following line to enable write"
   ]
  },
  {
   "cell_type": "code",
   "execution_count": 1,
   "metadata": {},
   "outputs": [],
   "source": [
    "import yfinance as yf\n",
    "import pandas as pd\n",
    "import os\n",
    "\n",
    "# List of ticker symbols used in QSTrader examples\n",
    "qstrader_example_tickers = [\n",
    "    \"SPY\",   # SPDR S&P 500 ETF Trust\n",
    "    \"AGG\",   # iShares Core U.S. Aggregate Bond ETF\n",
    "    \"XLB\",   # Materials Select Sector SPDR Fund\n",
    "    \"XLC\",   # Communication Services Select Sector SPDR Fund\n",
    "    \"XLE\",   # Energy Select Sector SPDR Fund\n",
    "    \"XLF\",   # Financial Select Sector SPDR Fund\n",
    "    \"XLI\",   # Industrial Select Sector SPDR Fund\n",
    "    \"XLK\",   # Technology Select Sector SPDR Fund\n",
    "    \"XLP\",   # Consumer Staples Select Sector SPDR Fund\n",
    "    \"XLU\",   # Utilities Select Sector SPDR Fund\n",
    "    \"XLV\",   # Health Care Select Sector SPDR Fund\n",
    "    \"XLY\",   # Consumer Discretionary Select Sector SPDR Fund\n",
    "    \"AAPL\",   # Apple Inc.\n",
    "    \"QQQ\"    # Invesco QQQ Trust\n",
    "]\n"
   ]
  },
  {
   "cell_type": "code",
   "execution_count": 2,
   "metadata": {},
   "outputs": [],
   "source": [
    "\n",
    "# Define the date range\n",
    "start_date = \"2000-01-01\"\n",
    "end_date = \"2025-02-24\"  # Up to current date\n",
    "\n",
    "# Get the directory from the environment variable, default to current directory\n",
    "data_dir = os.environ.get('QSTRADER_CSV_DATA_DIR', '/Users/snk/pcode/archive/qstrader/data')\n"
   ]
  },
  {
   "cell_type": "code",
   "execution_count": 3,
   "metadata": {},
   "outputs": [],
   "source": [
    "adjust_dividends = True"
   ]
  },
  {
   "cell_type": "code",
   "execution_count": 9,
   "metadata": {},
   "outputs": [
    {
     "name": "stdout",
     "output_type": "stream",
     "text": [
      "Data saved for SPY to /Users/snk/pcode/archive/qstrader/data/SPY.csv\n",
      "Data saved for AGG to /Users/snk/pcode/archive/qstrader/data/AGG.csv\n",
      "Data saved for XLB to /Users/snk/pcode/archive/qstrader/data/XLB.csv\n",
      "Data saved for XLC to /Users/snk/pcode/archive/qstrader/data/XLC.csv\n",
      "Data saved for XLE to /Users/snk/pcode/archive/qstrader/data/XLE.csv\n",
      "Data saved for XLF to /Users/snk/pcode/archive/qstrader/data/XLF.csv\n",
      "Data saved for XLI to /Users/snk/pcode/archive/qstrader/data/XLI.csv\n",
      "Data saved for XLK to /Users/snk/pcode/archive/qstrader/data/XLK.csv\n",
      "Data saved for XLP to /Users/snk/pcode/archive/qstrader/data/XLP.csv\n",
      "Data saved for XLU to /Users/snk/pcode/archive/qstrader/data/XLU.csv\n",
      "Data saved for XLV to /Users/snk/pcode/archive/qstrader/data/XLV.csv\n",
      "Data saved for XLY to /Users/snk/pcode/archive/qstrader/data/XLY.csv\n",
      "Data saved for AAPL to /Users/snk/pcode/archive/qstrader/data/AAPL.csv\n",
      "Data saved for QQQ to /Users/snk/pcode/archive/qstrader/data/QQQ.csv\n",
      "Download process completed.\n"
     ]
    }
   ],
   "source": [
    "\n",
    "# Ensure the directory exists\n",
    "# os.makedirs(data_dir, exist_ok=True)\n",
    "\n",
    "\n",
    "\n",
    "# Loop through each ticker and download data\n",
    "for ticker_symbol in qstrader_example_tickers:\n",
    "    try:\n",
    "        # Fetch data from Yahoo Finance\n",
    "        ticker = yf.Ticker(ticker_symbol)\n",
    "        df = ticker.history(start=start_date, end=end_date, auto_adjust=False)\n",
    "\n",
    "        # Check if data was retrieved successfully\n",
    "        if df.empty:\n",
    "            print(f\"No data found for {ticker_symbol}\")\n",
    "            continue\n",
    "\n",
    "        df['Split Ratio'] = df['Stock Splits'].replace(0, 1)\n",
    "        df['Cumulative Split Ratio'] = df['Split Ratio'].cumprod()\n",
    "\n",
    "        for col in ['Open', 'High', 'Low', 'Close', 'Volume']:\n",
    "            df[col] = df[col] / df['Cumulative Split Ratio']\n",
    "\n",
    "        if 'Dividends' in df.columns and adjust_dividends:\n",
    "            df['Dividends'] = df['Dividends'] / df['Cumulative Split Ratio']\n",
    "\n",
    "        return_cols = ['Open', 'High', 'Low', 'Close', 'Volume', 'Dividends', \"Stock Splits\"]\n",
    "        \n",
    "        # remove the time\n",
    "        df.index = df.index.date\n",
    "        df.index.name = 'Date'\n",
    "\n",
    "        df = df[return_cols]\n",
    "        \n",
    "        # Save the data to a CSV file in the specified directory\n",
    "        csv_path = os.path.join(data_dir, f\"{ticker_symbol}.csv\")\n",
    "        df.to_csv(csv_path)\n",
    "\n",
    "        print(f\"Data saved for {ticker_symbol} to {csv_path}\")\n",
    "\n",
    "    except Exception as e:\n",
    "        print(f\"Error downloading data for {ticker_symbol}: {e}\")\n",
    "\n",
    "print(\"Download process completed.\")"
   ]
  },
  {
   "cell_type": "code",
   "execution_count": null,
   "metadata": {},
   "outputs": [],
   "source": [
    "df"
   ]
  },
  {
   "cell_type": "code",
   "execution_count": null,
   "metadata": {},
   "outputs": [],
   "source": [
    "ticker_symbol = \"AAPL\""
   ]
  },
  {
   "cell_type": "code",
   "execution_count": null,
   "metadata": {},
   "outputs": [],
   "source": [
    "ticker = yf.Ticker(ticker_symbol)\n",
    "df = ticker.history(start=start_date, end=end_date, auto_adjust = False)"
   ]
  },
  {
   "cell_type": "code",
   "execution_count": null,
   "metadata": {},
   "outputs": [],
   "source": [
    "df['Split Ratio'] = df['Stock Splits'].replace(0, 1)\n",
    "df['Cumulative Split Ratio'] = df['Split Ratio'].cumprod()"
   ]
  },
  {
   "cell_type": "code",
   "execution_count": null,
   "metadata": {},
   "outputs": [],
   "source": [
    "for col in ['Open', 'High', 'Low', 'Close', 'Volume']:\n",
    "        df[col] = df[col] / df['Cumulative Split Ratio']"
   ]
  },
  {
   "cell_type": "code",
   "execution_count": null,
   "metadata": {},
   "outputs": [],
   "source": [
    "adjust_dividends = True"
   ]
  },
  {
   "cell_type": "code",
   "execution_count": null,
   "metadata": {},
   "outputs": [],
   "source": [
    "if 'Dividends' in df.columns and adjust_dividends:\n",
    "        df['Dividends'] = df['Dividends'] / df['Cumulative Split Ratio']"
   ]
  },
  {
   "cell_type": "code",
   "execution_count": null,
   "metadata": {},
   "outputs": [],
   "source": [
    "return_cols = ['Open', 'High', 'Low', 'Close', 'Volume', 'Dividends', \"Stock Splits\"]\n",
    "return data[return_cols]"
   ]
  },
  {
   "cell_type": "code",
   "execution_count": 7,
   "metadata": {},
   "outputs": [
    {
     "data": {
      "text/plain": [
       "array([datetime.date(2000, 1, 3), datetime.date(2000, 1, 4),\n",
       "       datetime.date(2000, 1, 5), ..., datetime.date(2025, 2, 19),\n",
       "       datetime.date(2025, 2, 20), datetime.date(2025, 2, 21)],\n",
       "      shape=(6323,), dtype=object)"
      ]
     },
     "execution_count": 7,
     "metadata": {},
     "output_type": "execute_result"
    }
   ],
   "source": [
    "df.index.date"
   ]
  },
  {
   "cell_type": "code",
   "execution_count": null,
   "metadata": {},
   "outputs": [],
   "source": []
  }
 ],
 "metadata": {
  "kernelspec": {
   "display_name": "py311",
   "language": "python",
   "name": "python3"
  },
  "language_info": {
   "codemirror_mode": {
    "name": "ipython",
    "version": 3
   },
   "file_extension": ".py",
   "mimetype": "text/x-python",
   "name": "python",
   "nbconvert_exporter": "python",
   "pygments_lexer": "ipython3",
   "version": "3.11.4"
  }
 },
 "nbformat": 4,
 "nbformat_minor": 2
}
